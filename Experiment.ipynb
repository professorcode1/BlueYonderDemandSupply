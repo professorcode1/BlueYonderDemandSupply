{
 "cells": [
  {
   "cell_type": "code",
   "execution_count": 1,
   "id": "f625c819",
   "metadata": {},
   "outputs": [
    {
     "name": "stdout",
     "output_type": "stream",
     "text": [
      "clipping 23 out of 3150 values\n",
      "0.040.0\n",
      "\n",
      "20.0\n",
      "80.0\n",
      "60.0\n"
     ]
    }
   ],
   "source": [
    "from TestCase import TestCase\n",
    "stores = 5\n",
    "products = 7\n",
    "tc = TestCase(stores, products, DC_capacity=50)\n",
    "hlpr = tc.getData(1000, simplex_reduction_factor = 0.3)"
   ]
  },
  {
   "cell_type": "code",
   "execution_count": 14,
   "id": "0b4d60f3",
   "metadata": {},
   "outputs": [
    {
     "data": {
      "text/plain": [
       "(5, 7, 90, 391)"
      ]
     },
     "execution_count": 14,
     "metadata": {},
     "output_type": "execute_result"
    }
   ],
   "source": [
    "hlpr.shape"
   ]
  },
  {
   "cell_type": "code",
   "execution_count": null,
   "id": "aac339a5",
   "metadata": {},
   "outputs": [],
   "source": [
    "x = np.array([1,2,3,4,5,6,7,8,9,10])"
   ]
  },
  {
   "cell_type": "code",
   "execution_count": null,
   "id": "5761828a",
   "metadata": {},
   "outputs": [],
   "source": [
    "x.clip(2,8)"
   ]
  },
  {
   "cell_type": "code",
   "execution_count": null,
   "id": "96f947d9",
   "metadata": {},
   "outputs": [],
   "source": [
    "x"
   ]
  },
  {
   "cell_type": "code",
   "execution_count": 8,
   "id": "57dfe4de",
   "metadata": {},
   "outputs": [],
   "source": [
    "import numpy as np"
   ]
  }
 ],
 "metadata": {
  "kernelspec": {
   "display_name": "Python 3 (ipykernel)",
   "language": "python",
   "name": "python3"
  },
  "language_info": {
   "codemirror_mode": {
    "name": "ipython",
    "version": 3
   },
   "file_extension": ".py",
   "mimetype": "text/x-python",
   "name": "python",
   "nbconvert_exporter": "python",
   "pygments_lexer": "ipython3",
   "version": "3.10.4"
  }
 },
 "nbformat": 4,
 "nbformat_minor": 5
}
