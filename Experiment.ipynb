{
 "cells": [
  {
   "cell_type": "code",
   "execution_count": 1,
   "id": "f625c819",
   "metadata": {},
   "outputs": [],
   "source": [
    "from TestCase import TestCase\n",
    "import numpy as np\n",
    "from MonteCarloTreeSearch_Source.build.PyMCTS import MonteCarloTreeSearch"
   ]
  },
  {
   "cell_type": "markdown",
   "id": "5ab38c12",
   "metadata": {},
   "source": [
    "Below we define all the parameters of our problem and generate a hypothetical test case. Here we are keeping it simple, in the problem statement demand_max is 400, and for the algorithm to give intelligent meaningful results we should set nmbr_brnch_myTurn, nmbr_brnch_wrldTurn in the hundereds and nmbr_simulations_per_rollout in the thousands, however that would take hours(at-least). Here I keep it small as I just wanna see if the prototype works."
   ]
  },
  {
   "cell_type": "code",
   "execution_count": 6,
   "id": "03f84989",
   "metadata": {},
   "outputs": [
    {
     "name": "stdout",
     "output_type": "stream",
     "text": [
      "clipping 0(0,0) out of 120 values\n",
      "66.66666666666667\n",
      "33.3333333333333360.0\n",
      "\n"
     ]
    }
   ],
   "source": [
    "demand_min = 10\n",
    "demand_max = 20\n",
    "nmbr_strs = 3\n",
    "nmbr_prdcts = 4\n",
    "time_frm = 10\n",
    "DC_cpcty = 200\n",
    "truck_capacity = 20\n",
    "nmbr_brnch_wrldTurn = 10\n",
    "nmbr_brnch_myTurn = 10\n",
    "nmbr_simulations_per_rollout = 10\n",
    "factory_production_limit = 200\n",
    "exploration_factor = 2\n",
    "trk_thrpt_rti_cnst = 1\n",
    "wareHouseStatePy = np.zeros(nmbr_prdcts, dtype=np.int32)\n",
    "tc = TestCase( nmbr_strs, nmbr_prdcts, DC_capacity = DC_cpcty,demand_range_min = demand_min,\n",
    "              demand_range_max = demand_max ,timeframe = time_frm)\n",
    "demand_prb_dstrbutnPy = tc.getData(130, simplex_reduction_factor = 0.01)\n",
    "    "
   ]
  },
  {
   "cell_type": "markdown",
   "id": "c2e6bac3",
   "metadata": {},
   "source": [
    "In the two player game we are playing the world makes a move first and then we make a move, i.e. we have a demand probability for 90 days. However since (mathematically) factory to DC is instantaneus and factory product is also instant, it makes no sense mathematically to not make the decision to simulate once we get the very first demand. So we make a first demand"
   ]
  },
  {
   "cell_type": "code",
   "execution_count": 3,
   "id": "e1593924",
   "metadata": {},
   "outputs": [],
   "source": [
    "demand_right_now = tc.generateStochasticInstantDemand(demand_prb_dstrbutnPy, demand_min)"
   ]
  },
  {
   "cell_type": "code",
   "execution_count": 4,
   "id": "fbce476d",
   "metadata": {},
   "outputs": [
    {
     "data": {
      "text/plain": [
       "array([[13, 10, 17, 11],\n",
       "       [13, 17, 13, 19],\n",
       "       [14, 18, 15, 14]], dtype=int32)"
      ]
     },
     "execution_count": 4,
     "metadata": {},
     "output_type": "execute_result"
    }
   ],
   "source": [
    "demand_right_now"
   ]
  },
  {
   "cell_type": "markdown",
   "id": "9a51d345",
   "metadata": {},
   "source": [
    "Now we initialise the tree. It will run the simulation and will have a result ready for us."
   ]
  },
  {
   "cell_type": "code",
   "execution_count": 7,
   "id": "e4cc461d",
   "metadata": {
    "scrolled": true
   },
   "outputs": [
    {
     "name": "stdout",
     "output_type": "stream",
     "text": [
      "Simulation  0  of  10\n",
      "Progress ::  0 %\n",
      "demand_min_ :: 10\n",
      "demand_max_ :: 20\n",
      "nmbr_strs_ :: 3\n",
      "nmbr_prdcts_ :: 4\n",
      "time_frm_ :: 10\n",
      "DC_cpcty_ :: 200\n",
      "truck_capacity_ :: 20\n",
      "factory_production_limit_ :: 200\n",
      "nmbr_brnch_wrldTurn_ :: 10\n",
      "nmbr_brnch_myTurn_ :: 10\n",
      "nmbr_simulations_per_rollout_ :: 10\n",
      "exploration_factor_ :: 2\n",
      "trk_thrpt_rti_cnst_ :: 1\n",
      "Progress ::  10 %\n",
      "Progress ::  20 %\n",
      "Progress ::  30 %\n",
      "Progress ::  40 %\n",
      "Progress ::  50 %\n",
      "Progress ::  60 %\n",
      "Progress ::  70 %\n",
      "Progress ::  80 %\n",
      "Progress ::  90 %\n",
      "Simulation  1  of  10\n",
      "Progress ::  0 %\n",
      "Progress ::  10 %\n",
      "Progress ::  20 %\n",
      "Progress ::  30 %\n",
      "Progress ::  40 %\n",
      "Progress ::  50 %\n",
      "Progress ::  60 %\n",
      "Progress ::  70 %\n",
      "Progress ::  80 %\n",
      "Progress ::  90 %\n",
      "Simulation  2  of  10\n",
      "Progress ::  0 %\n",
      "Progress ::  10 %\n",
      "Progress ::  20 %\n",
      "Progress ::  30 %\n",
      "Progress ::  40 %\n",
      "Progress ::  50 %\n",
      "Progress ::  60 %\n",
      "Progress ::  70 %\n",
      "Progress ::  80 %\n",
      "Progress ::  90 %\n",
      "Simulation  3  of  10\n",
      "Progress ::  0 %\n",
      "Progress ::  10 %\n",
      "Progress ::  20 %\n",
      "Progress ::  30 %\n",
      "Progress ::  40 %\n",
      "Progress ::  50 %\n",
      "Progress ::  60 %\n",
      "Progress ::  70 %\n",
      "Progress ::  80 %\n",
      "Progress ::  90 %\n",
      "Simulation  4  of  10\n",
      "Progress ::  0 %\n",
      "Progress ::  10 %\n",
      "Progress ::  20 %\n",
      "Progress ::  30 %\n",
      "Progress ::  40 %\n",
      "Progress ::  50 %\n",
      "Progress ::  60 %\n",
      "Progress ::  70 %\n",
      "Progress ::  80 %\n",
      "Progress ::  90 %\n",
      "Simulation  5  of  10\n",
      "Progress ::  0 %\n",
      "Progress ::  10 %\n",
      "Progress ::  20 %\n",
      "Progress ::  30 %\n",
      "Progress ::  40 %\n",
      "Progress ::  50 %\n",
      "Progress ::  60 %\n",
      "Progress ::  70 %\n",
      "Progress ::  80 %\n",
      "Progress ::  90 %\n",
      "Simulation  6  of  10\n",
      "Progress ::  0 %\n",
      "Progress ::  10 %\n",
      "Progress ::  20 %\n",
      "Progress ::  30 %\n",
      "Progress ::  40 %\n",
      "Progress ::  50 %\n",
      "Progress ::  60 %\n",
      "Progress ::  70 %\n",
      "Progress ::  80 %\n",
      "Progress ::  90 %\n",
      "Simulation  7  of  10\n",
      "Progress ::  0 %\n",
      "Progress ::  10 %\n",
      "Progress ::  20 %\n",
      "Progress ::  30 %\n",
      "Progress ::  40 %\n",
      "Progress ::  50 %\n",
      "Progress ::  60 %\n",
      "Progress ::  70 %\n",
      "Progress ::  80 %\n",
      "Progress ::  90 %\n",
      "Simulation  8  of  10\n",
      "Progress ::  0 %\n",
      "Progress ::  10 %\n",
      "Progress ::  20 %\n",
      "Progress ::  30 %\n",
      "Progress ::  40 %\n",
      "Progress ::  50 %\n",
      "Progress ::  60 %\n",
      "Progress ::  70 %\n",
      "Progress ::  80 %\n",
      "Progress ::  90 %\n",
      "Simulation  9  of  10\n",
      "Progress ::  0 %\n",
      "Progress ::  10 %\n",
      "Progress ::  20 %\n",
      "Progress ::  30 %\n",
      "Progress ::  40 %\n",
      "Progress ::  50 %\n",
      "Progress ::  60 %\n",
      "Progress ::  70 %\n",
      "Progress ::  80 %\n",
      "Progress ::  90 %\n"
     ]
    }
   ],
   "source": [
    "tree = MonteCarloTreeSearch(demand_min,demand_max,nmbr_strs, nmbr_prdcts,time_frm,DC_cpcty,truck_capacity,\n",
    "   nmbr_brnch_wrldTurn, nmbr_brnch_myTurn,nmbr_simulations_per_rollout, factory_production_limit, \n",
    "                            exploration_factor,trk_thrpt_rti_cnst, wareHouseStatePy, demand_prb_dstrbutnPy, demand_right_now)"
   ]
  },
  {
   "cell_type": "markdown",
   "id": "51d2c1a1",
   "metadata": {},
   "source": [
    "We can keep calling the MCTS method again and again to keep explore the tree, while this functionality is present, this is used in advasarial 2 player games like chees. Using it is pointless here, though if you want to you can keep exploring the tree more and more."
   ]
  },
  {
   "cell_type": "code",
   "execution_count": null,
   "id": "12af3d82",
   "metadata": {
    "scrolled": true
   },
   "outputs": [],
   "source": [
    "tree()"
   ]
  },
  {
   "cell_type": "code",
   "execution_count": 8,
   "id": "3f6e1f9e",
   "metadata": {},
   "outputs": [
    {
     "data": {
      "text/plain": [
       "([44, 46, 43, 49],\n",
       " [(0, [9, 9, 2, 0]),\n",
       "  (0, [0, 0, 12, 8]),\n",
       "  (1, [11, 9, 0, 0]),\n",
       "  (1, [0, 8, 12, 0]),\n",
       "  (1, [0, 0, 1, 19]),\n",
       "  (2, [14, 6, 0, 0]),\n",
       "  (2, [0, 11, 9, 0]),\n",
       "  (2, [0, 0, 6, 14])])"
      ]
     },
     "execution_count": 8,
     "metadata": {},
     "output_type": "execute_result"
    }
   ],
   "source": [
    "(factory_produce, trucks) = tree.CurrentBestSolution\n",
    "factory_produce, trucks"
   ]
  },
  {
   "cell_type": "markdown",
   "id": "36275d01",
   "metadata": {},
   "source": [
    "Here is the result, with factory produce being a list where the ith index means how much of prouduct i to produce, and trucks being a list of trucks. Where each truck is a tuple of (store, truck plan). The store is which store the truck is going to and the truck plan it a list where the ith element is how much of the ith product is being taken to that store. "
   ]
  }
 ],
 "metadata": {
  "kernelspec": {
   "display_name": "Python 3 (ipykernel)",
   "language": "python",
   "name": "python3"
  },
  "language_info": {
   "codemirror_mode": {
    "name": "ipython",
    "version": 3
   },
   "file_extension": ".py",
   "mimetype": "text/x-python",
   "name": "python",
   "nbconvert_exporter": "python",
   "pygments_lexer": "ipython3",
   "version": "3.9.13"
  }
 },
 "nbformat": 4,
 "nbformat_minor": 5
}
