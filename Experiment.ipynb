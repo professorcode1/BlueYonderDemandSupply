{
 "cells": [
  {
   "cell_type": "code",
   "execution_count": 1,
   "id": "f625c819",
   "metadata": {},
   "outputs": [],
   "source": [
    "from TestCase import TestCase\n",
    "import numpy as np\n",
    "from MonteCarloTreeSearch_Source.build.PyMCTS import MonteCarloTreeSearch"
   ]
  },
  {
   "cell_type": "code",
   "execution_count": 2,
   "id": "c4438828",
   "metadata": {},
   "outputs": [
    {
     "name": "stdout",
     "output_type": "stream",
     "text": [
      "clipping 0 out of 1080 values\n"
     ]
    },
    {
     "name": "stderr",
     "output_type": "stream",
     "text": [
      "OMP: Info #276: omp_set_nested routine deprecated, please use omp_set_max_active_levels instead.\n"
     ]
    },
    {
     "name": "stdout",
     "output_type": "stream",
     "text": [
      "0.066.66666666666667\n",
      "33.333333333333336\n",
      "\n"
     ]
    }
   ],
   "source": [
    "demand_min = 10\n",
    "demand_max = 400\n",
    "nmbr_strs = 3\n",
    "nmbr_prdcts = 4\n",
    "time_frm = 90\n",
    "DC_cpcty = 200\n",
    "truck_capacity = 20\n",
    "nmbr_brnch_wrldTurn = 10\n",
    "nmbr_brnch_myTurn = 10\n",
    "nmbr_simulations_per_rollout = 10\n",
    "factory_production_limit = 200\n",
    "exploration_factor = 2\n",
    "wareHouseStatePy = np.zeros(nmbr_prdcts, dtype=np.int32)\n",
    "tc = TestCase( nmbr_strs, nmbr_prdcts, DC_capacity = DC_cpcty )\n",
    "demand_prb_dstrbutnPy = tc.getData(1000, simplex_reduction_factor = 0.3)\n",
    "    "
   ]
  },
  {
   "cell_type": "code",
   "execution_count": 3,
   "id": "7e6e0608",
   "metadata": {},
   "outputs": [],
   "source": [
    "tree = MonteCarloTreeSearch(demand_min,demand_max,nmbr_strs, nmbr_prdcts,time_frm,DC_cpcty,truck_capacity,\n",
    "   nmbr_brnch_wrldTurn, nmbr_brnch_myTurn,nmbr_simulations_per_rollout, factory_production_limit, exploration_factor, wareHouseStatePy, demand_prb_dstrbutnPy)"
   ]
  },
  {
   "cell_type": "code",
   "execution_count": 5,
   "id": "a0561811",
   "metadata": {},
   "outputs": [],
   "source": [
    "tree()"
   ]
  }
 ],
 "metadata": {
  "kernelspec": {
   "display_name": "Python 3 (ipykernel)",
   "language": "python",
   "name": "python3"
  },
  "language_info": {
   "codemirror_mode": {
    "name": "ipython",
    "version": 3
   },
   "file_extension": ".py",
   "mimetype": "text/x-python",
   "name": "python",
   "nbconvert_exporter": "python",
   "pygments_lexer": "ipython3",
   "version": "3.9.13"
  }
 },
 "nbformat": 4,
 "nbformat_minor": 5
}
