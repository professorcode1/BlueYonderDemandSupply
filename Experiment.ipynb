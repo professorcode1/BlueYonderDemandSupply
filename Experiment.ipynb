{
 "cells": [
  {
   "cell_type": "code",
   "execution_count": 2,
   "id": "a4bd848d",
   "metadata": {},
   "outputs": [],
   "source": [
    "import numpy as np\n",
    "import opensimplex"
   ]
  },
  {
   "cell_type": "code",
   "execution_count": 5,
   "id": "042172b5",
   "metadata": {},
   "outputs": [],
   "source": [
    "#     1)number of stores \n",
    "#     2)number of products :- an int representing the number of products\n",
    "#     3timeframe :- an int representing the number of days we simulate\n",
    "#     4)factory_capacity :- an int representing how many total products the factory can produce in a day\n",
    "#     5)DC_capacity :- an int representing how many total products can be stored:\n",
    "#     6)demand range min :- an int saying the least value of each products order\n",
    "#     7)demand range max :- an int saying the max value of each products order\n",
    "#     8)truck_capacity :- total products truck can carry\n",
    "#     9)data = array of shape (stores, products, demand_range, timeframe) where data[w][x][y][z] = probability of\n",
    "#         store w wanting product x in (y + demand_range_min) amount on day z \n",
    "#     10)truck_max_cap :- hypothetically, the number of trucks on a day can be min(max_supply, max_demand)\n",
    "#         i.e. 1 truck per product from demand to supply \n",
    "#         max_supply = DC_capacity\n",
    "#         max_demand = demand_range_max * number of stores * number of products\n",
    "#         but simulating this wastes a lot of space, so we resonably cap the number of trucks to save space\n",
    "#     11)DC_cap_to_noise_mean_factor: -I generate 4d simplex noise and multiply that with DC_Capacity to get \n",
    "#             data array, but if demand on \n",
    "#         average is the maximum the system can handle that is hard(maybe impossible) to generate a solution, \n",
    "#         so this factor reduces the mean the noise tends to. Making this closer to 0 makes the problem easier \n",
    "#         to solve, closer to 1 harder, above 1 impossible. The solution object will exist and will be \n",
    "#         \"optimal\" but the demand will keep cummilating and cummilating  \n",
    "\n",
    "class testCase:\n",
    "    def __init__(self, number_of_stores,number_of_products, timeframe = 90, factory_capacity = 200, \n",
    "                       DC_capacity = 50, demand_range_min = 10, demand_range_max = 400,\n",
    "                      truck_capacity = 20, truck_max_cap = 0.1, DC_cap_to_noise_mean_factor = 0.6):\n",
    "        self.number_of_stores = number_of_stores\n",
    "        self.number_of_products = number_of_products\n",
    "        self.timeframe = timeframe\n",
    "        self.factory_capacity = factory_capacity\n",
    "        self.DC_capacity = DC_capacity\n",
    "        self.demand_range_min = demand_range_min\n",
    "        self.demand_range_max = demand_range_max\n",
    "        self.truck_capacity = truck_capacity\n",
    "        self.truck_max_cap = truck_max_cap\n",
    "        self.DC_cap_to_noise_mean_factor = DC_cap_to_noise_mean_factor\n",
    "        \n",
    "\n",
    "        "
   ]
  }
 ],
 "metadata": {
  "kernelspec": {
   "display_name": "Python 3 (ipykernel)",
   "language": "python",
   "name": "python3"
  },
  "language_info": {
   "codemirror_mode": {
    "name": "ipython",
    "version": 3
   },
   "file_extension": ".py",
   "mimetype": "text/x-python",
   "name": "python",
   "nbconvert_exporter": "python",
   "pygments_lexer": "ipython3",
   "version": "3.10.4"
  }
 },
 "nbformat": 4,
 "nbformat_minor": 5
}
