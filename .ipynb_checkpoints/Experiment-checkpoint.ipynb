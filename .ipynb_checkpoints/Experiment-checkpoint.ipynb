{
 "cells": [
  {
   "cell_type": "code",
   "execution_count": 3,
   "id": "a4bd848d",
   "metadata": {},
   "outputs": [],
   "source": [
    "import numpy as np"
   ]
  },
  {
   "cell_type": "code",
   "execution_count": 5,
   "id": "042172b5",
   "metadata": {},
   "outputs": [],
   "source": [
    "def generate_test_case(number_of_stores,number_of_products, timeframe = 90, factory_capacity = 200, \n",
    "                       DC_capacity = 50, demand_range_min = 10, demand_range_max = 400,\n",
    "                      truck_capacity = 20, truck_max_cap = 0.1):\n",
    "    pass\n",
    "#     the return values\n",
    "#     1)number of stores \n",
    "#     2)number of products :- an int representing the number of products\n",
    "#     3timeframe :- an int representing the number of days we simulate\n",
    "#     4factory_capacity :- an int representing how many total products the factory can produce in a day\n",
    "#     5DC_capacity :- an int representing how many total products can be stored:\n",
    "#     6)demand range min :- an int saying the least value of each products order\n",
    "#     7)demand range max :- an int saying the max value of each products order\n",
    "#     8)truck_capacity :- total products truck can carry\n",
    "#     9)data = array of shape (stores, products, demand_range, timeframe) where data[w][x][y][z] = probability of\n",
    "#         store w wanting product x in (y + demand_range_min) amount on day z \n",
    "#     10)truck_max_cap :- hypothetically, the number of trucks on a day can be min(max_supply, max_demand)\n",
    "#         i.e. 1 truck per product from demand to supply \n",
    "#         max_supply = DC_capacity\n",
    "#         max_demand = demand_range_max * number of stores * number of products\n",
    "\n",
    "        "
   ]
  }
 ],
 "metadata": {
  "kernelspec": {
   "display_name": "Python 3 (ipykernel)",
   "language": "python",
   "name": "python3"
  },
  "language_info": {
   "codemirror_mode": {
    "name": "ipython",
    "version": 3
   },
   "file_extension": ".py",
   "mimetype": "text/x-python",
   "name": "python",
   "nbconvert_exporter": "python",
   "pygments_lexer": "ipython3",
   "version": "3.10.4"
  }
 },
 "nbformat": 4,
 "nbformat_minor": 5
}
