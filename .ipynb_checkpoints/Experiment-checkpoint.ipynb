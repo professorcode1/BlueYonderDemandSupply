{
 "cells": [
  {
   "cell_type": "code",
   "execution_count": 50,
   "id": "a4bd848d",
   "metadata": {},
   "outputs": [],
   "source": [
    "import numpy as np\n",
    "import opensimplex\n",
    "import random\n",
    "from time import sleep\n",
    "import scipy.linalg as sla\n",
    "import numba \n",
    "import pycuda.driver as cuda\n",
    "import pycuda.autoinit\n",
    "from pycuda.compiler import SourceModule\n",
    "import pycuda.gpuarray as gpuarray"
   ]
  },
  {
   "cell_type": "code",
   "execution_count": 57,
   "id": "24c2e6a8",
   "metadata": {},
   "outputs": [],
   "source": [
    "createPopCode = open(\"cudaKernels/createInitialPopulation.cu\").read()\n",
    "createRndmCode = open(\"cudaKernels/createRandomState.cu\").read()\n",
    "\n",
    "mod_rndm = SourceModule(createRndmCode % {\"SEED\" : 0}, no_extern_c = True)\n",
    "mod_pop = SourceModule(createPopCode, no_extern_c = True)\n",
    "\n",
    "createPopulation = mod_pop.get_function(\"create_initial_population\")\n",
    "createRandom = mod_rndm.get_function(\"initkernel\")\n",
    "\n",
    "actv_blcks = 4\n",
    "rndm_st_sz = 48\n",
    "thrds_per_blk = 1024\n",
    "population_size = 200\n",
    "time_frame = 90\n",
    "nmbr_trks = 10\n",
    "trk_cp = 20\n",
    "number_of_stores =5\n",
    "number_of_products = 12\n",
    "probability_of_no_truck = 0.25\n",
    "\n",
    "rndm_nmb_gntr = cuda.mem_alloc(rndm_st_sz * actv_blcks * thrds_per_blk)\n",
    "population = cuda.mem_alloc(population_size * time_frame * nmbr_trks * (trk_cp+1) * 4)\n",
    "population_cpu = np.zeros((population_size , time_frame , nmbr_trks , (trk_cp+1)), dtype =np.int32,order ='C')\n",
    "cuda.memcpy_htod(population, population_cpu)\n",
    "\n",
    "createRandom(rndm_nmb_gntr, block=(32,8,4), grid=(4,1,1))\n",
    "createPopulation(population, np.array(population_size, dtype=np.int32) , np.array(time_frame, dtype=np.int32) ,\n",
    "                 np.array(nmbr_trks, dtype=np.int32) , np.array(trk_cp, dtype=np.int32), \n",
    "                 np.array(number_of_stores, dtype=np.int32), np.array(number_of_products, dtype=np.int32), \n",
    "                 np.array(probability_of_no_truck, dtype=np.float32), rndm_nmb_gntr, block=(1024,1, 1), grid=(4,1,1))\n",
    "cuda.memcpy_dtoh(population_cpu, population)"
   ]
  },
  {
   "cell_type": "code",
   "execution_count": 59,
   "id": "f39ff10c",
   "metadata": {},
   "outputs": [
    {
     "data": {
      "text/plain": [
       "25.147777777777776"
      ]
     },
     "execution_count": 59,
     "metadata": {},
     "output_type": "execute_result"
    }
   ],
   "source": [
    "np.sum(population_cpu[:,:,:,0] == -1) / (1800)\n"
   ]
  }
 ],
 "metadata": {
  "kernelspec": {
   "display_name": "Python 3 (ipykernel)",
   "language": "python",
   "name": "python3"
  },
  "language_info": {
   "codemirror_mode": {
    "name": "ipython",
    "version": 3
   },
   "file_extension": ".py",
   "mimetype": "text/x-python",
   "name": "python",
   "nbconvert_exporter": "python",
   "pygments_lexer": "ipython3",
   "version": "3.10.4"
  }
 },
 "nbformat": 4,
 "nbformat_minor": 5
}
